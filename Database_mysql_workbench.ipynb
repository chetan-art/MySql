{
 "cells": [
  {
   "cell_type": "code",
   "execution_count": 22,
   "metadata": {},
   "outputs": [
    {
     "name": "stdout",
     "output_type": "stream",
     "text": [
      "Requirement already satisfied: mysql-connector-python in c:\\programdata\\anaconda3\\lib\\site-packages (8.0.25)\n",
      "Requirement already satisfied: protobuf>=3.0.0 in c:\\users\\hp\\appdata\\roaming\\python\\python37\\site-packages (from mysql-connector-python) (3.14.0)\n",
      "Requirement already satisfied: six>=1.9 in c:\\users\\hp\\appdata\\roaming\\python\\python37\\site-packages (from protobuf>=3.0.0->mysql-connector-python) (1.15.0)\n"
     ]
    }
   ],
   "source": [
    "!pip install mysql-connector-python "
   ]
  },
  {
   "cell_type": "code",
   "execution_count": 23,
   "metadata": {},
   "outputs": [
    {
     "name": "stdout",
     "output_type": "stream",
     "text": [
      "information_schema\n",
      "mysql\n",
      "performance_schema\n",
      "sakila\n",
      "student\n",
      "sys\n",
      "world\n"
     ]
    }
   ],
   "source": [
    "#For Showing all the database present in workbench\n",
    "import mysql.connector as connection\n",
    "try:\n",
    "    mydb = connection.connect(host=\"localhost\",user=\"root\", passwd = \"mysql\")\n",
    "    \n",
    "    query = 'SHOW DATABASES'\n",
    "    \n",
    "    cursor = mydb.cursor()\n",
    "    cursor.execute(query)\n",
    "    res = cursor.fetchall()\n",
    "    for i in res:\n",
    "        print(i[0])\n",
    "except Exception as e:\n",
    "    mydb.close()\n",
    "    print(str(0))"
   ]
  },
  {
   "cell_type": "code",
   "execution_count": 24,
   "metadata": {},
   "outputs": [],
   "source": [
    "import mysql.connector as connection"
   ]
  },
  {
   "cell_type": "code",
   "execution_count": 25,
   "metadata": {},
   "outputs": [],
   "source": [
    "conn = connection.connect(host='localhost',user='root',passwd ='mysql')\n"
   ]
  },
  {
   "cell_type": "code",
   "execution_count": 26,
   "metadata": {},
   "outputs": [],
   "source": [
    "cur = conn.cursor()"
   ]
  },
  {
   "cell_type": "code",
   "execution_count": 27,
   "metadata": {},
   "outputs": [],
   "source": [
    "cur.execute(\"show databases\")"
   ]
  },
  {
   "cell_type": "code",
   "execution_count": 28,
   "metadata": {},
   "outputs": [],
   "source": [
    "x = cur.fetchall()"
   ]
  },
  {
   "cell_type": "code",
   "execution_count": 29,
   "metadata": {},
   "outputs": [
    {
     "data": {
      "text/plain": [
       "[('information_schema',),\n",
       " ('mysql',),\n",
       " ('performance_schema',),\n",
       " ('sakila',),\n",
       " ('student',),\n",
       " ('sys',),\n",
       " ('world',)]"
      ]
     },
     "execution_count": 29,
     "metadata": {},
     "output_type": "execute_result"
    }
   ],
   "source": [
    "x"
   ]
  },
  {
   "cell_type": "code",
   "execution_count": 30,
   "metadata": {},
   "outputs": [
    {
     "data": {
      "text/plain": [
       "'mysql'"
      ]
     },
     "execution_count": 30,
     "metadata": {},
     "output_type": "execute_result"
    }
   ],
   "source": [
    "x[1][0]"
   ]
  },
  {
   "cell_type": "code",
   "execution_count": 31,
   "metadata": {},
   "outputs": [
    {
     "name": "stdout",
     "output_type": "stream",
     "text": [
      "information_schema\n",
      "mysql\n",
      "performance_schema\n",
      "sakila\n",
      "student\n",
      "sys\n",
      "world\n"
     ]
    }
   ],
   "source": [
    "for i in x:\n",
    "    print(i[0])"
   ]
  },
  {
   "cell_type": "code",
   "execution_count": 32,
   "metadata": {},
   "outputs": [
    {
     "name": "stdout",
     "output_type": "stream",
     "text": [
      "True\n",
      "database not created\n"
     ]
    }
   ],
   "source": [
    "# for create a New Databases\n",
    "import mysql.connector as connection\n",
    "try:\n",
    "    mydb = connection.connect(host = 'localhost',user = 'root',passwd = 'mysql')\n",
    "    print(mydb.is_connected())\n",
    "    query = 'CREATE DATABASE STUDENT;'\n",
    "    cursor = mydb.cursor()\n",
    "    cursor.execute(query)\n",
    "    print(\"Database Created\")\n",
    "    mydb.close()\n",
    "except Exception as e:\n",
    "    mydb.close()\n",
    "    print(\"database not created\")"
   ]
  },
  {
   "cell_type": "code",
   "execution_count": 33,
   "metadata": {},
   "outputs": [
    {
     "name": "stdout",
     "output_type": "stream",
     "text": [
      "True\n",
      "table is not created\n"
     ]
    }
   ],
   "source": [
    "# for create a new table in database\n",
    "import mysql.connector as connection\n",
    "try:\n",
    "    mydb = connection.connect(host= \"localhost\",user='root',database = 'STUDENT',passwd = 'mysql')\n",
    "    print(mydb.is_connected())\n",
    "    \n",
    "    \n",
    "    query = 'CREATE TABLE StudentDetails(x1 INT(5),x2 VARCHAR(20),x3 DATE);'\n",
    "    \n",
    "    \n",
    "    \n",
    "    cursor = mydb.cursor()\n",
    "    cursor.execute(query)\n",
    "    print(\"table created in database\")\n",
    "    mydb.close()\n",
    "except Exception as e:\n",
    "    mydb.close()\n",
    "    print(\"table is not created\")"
   ]
  },
  {
   "cell_type": "code",
   "execution_count": 34,
   "metadata": {},
   "outputs": [
    {
     "name": "stdout",
     "output_type": "stream",
     "text": [
      "data enter into the table\n"
     ]
    }
   ],
   "source": [
    "#for inserting the data into the tables\n",
    "import mysql.connector as connection\n",
    "try:\n",
    "    mydb = connection.connect(host='localhost',user='root',database='STUDENT',passwd='mysql')\n",
    "    mydb.is_connected()\n",
    "    query = \"INSERT INTO StudentDetails VALUES('4561','Chetan','2021-06-30');\"\n",
    "    query = \"INSERT INTO StudentDetails VALUES('4562','Chetan','2021-06-30');\"\n",
    "    query = \"INSERT INTO StudentDetails VALUES('4563','Chetan','2021-06-30');\"\n",
    "    query = \"INSERT INTO StudentDetails VALUES('4564','Chetan','2021-06-30');\"\n",
    "    query = \"INSERT INTO StudentDetails VALUES('4565','Chetan','2021-06-30');\"\n",
    "    query = \"INSERT INTO StudentDetails VALUES('4566','Parvseh','2021-06-30');\"\n",
    "    query = \"INSERT INTO StudentDetails VALUES('4567','vikas','2021-06-30');\"\n",
    "    query = \"INSERT INTO StudentDetails VALUES('4568','Aashish','2021-06-30');\"\n",
    "    query = \"INSERT INTO StudentDetails VALUES('4569','Aakash','2021-06-30');\"\n",
    "    query = \"INSERT INTO StudentDetails VALUES('4570','Shyam','2021-06-30');\"\n",
    "    cursor = mydb.cursor()\n",
    "    cursor.execute(query)\n",
    "    print(\"data enter into the table\")\n",
    "    mydb.commit()\n",
    "    mydb.close()\n",
    "except Exception as e:\n",
    "    mydb.close()\n",
    "    print(\"data not enter into table\")"
   ]
  },
  {
   "cell_type": "code",
   "execution_count": 35,
   "metadata": {},
   "outputs": [
    {
     "name": "stdout",
     "output_type": "stream",
     "text": [
      "True\n",
      "Chetan\n",
      "Chetan\n",
      "Chetan\n",
      "Chetan\n",
      "Chetan\n",
      "Aashish\n",
      "Aakash\n",
      "Shyam\n",
      "Shyam\n",
      "Shyam\n",
      "Shyam\n",
      "Shyam\n"
     ]
    }
   ],
   "source": [
    "# for fectching the data from the databases\n",
    "import mysql.connector as connection\n",
    "try:\n",
    "    mydb = connection.connect(host='localhost',user='root',database='STUDENT',passwd='mysql')\n",
    "    print(mydb.is_connected())\n",
    "    query = \"SELECT * FROM StudentDetails\"\n",
    "    cursor = mydb.cursor()\n",
    "    cursor.execute(query)\n",
    "    fetch = cursor.fetchall()\n",
    "    for result in fetch:\n",
    "        print(result[1])\n",
    "    mydb.close()\n",
    "except Exception as e:\n",
    "    mydb.close()\n",
    "    print(\"data not fetch\")"
   ]
  },
  {
   "cell_type": "code",
   "execution_count": 36,
   "metadata": {},
   "outputs": [
    {
     "name": "stdout",
     "output_type": "stream",
     "text": [
      "information_schema\n",
      "mysql\n",
      "performance_schema\n",
      "sakila\n",
      "student\n",
      "sys\n",
      "world\n"
     ]
    }
   ],
   "source": [
    "import mysql.connector as connection\n",
    "try:\n",
    "    mydb = connection.connect(host='localhost',user='root',passwd='mysql')\n",
    "    x = mydb.is_connected()\n",
    "    query = 'SHOW DATABASES'\n",
    "    cursor = mydb.cursor()\n",
    "    cursor.execute(query)\n",
    "    fetch = cursor.fetchall()\n",
    "    for i in fetch:\n",
    "        print(i[0])\n",
    "    mydb.close()\n",
    "except Exception as e:\n",
    "    mydb.close()\n",
    "    print(\"there is some error in query\")"
   ]
  },
  {
   "cell_type": "code",
   "execution_count": 37,
   "metadata": {},
   "outputs": [],
   "source": [
    "import pandas as pd"
   ]
  },
  {
   "cell_type": "code",
   "execution_count": 38,
   "metadata": {},
   "outputs": [
    {
     "data": {
      "text/plain": [
       "<mysql.connector.connection.MySQLConnection at 0x23d492d61c8>"
      ]
     },
     "execution_count": 38,
     "metadata": {},
     "output_type": "execute_result"
    }
   ],
   "source": [
    "mydb"
   ]
  },
  {
   "cell_type": "code",
   "execution_count": 39,
   "metadata": {},
   "outputs": [
    {
     "name": "stdout",
     "output_type": "stream",
     "text": [
      "            x3       x2    x1\n",
      "0   2021-06-30   Chetan  4561\n",
      "1   2021-06-30   Chetan  4561\n",
      "2   2021-06-30   Chetan  4564\n",
      "3   2021-06-30   Chetan  4566\n",
      "4   2021-06-30   Chetan  4567\n",
      "5   2021-06-30  Aashish  4568\n",
      "6   2021-06-30   Aakash  4569\n",
      "7   2021-06-30    Shyam  4570\n",
      "8   2021-06-30    Shyam  4570\n",
      "9   2021-06-30    Shyam  4570\n",
      "10  2021-06-30    Shyam  4570\n",
      "11  2021-06-30    Shyam  4570\n"
     ]
    }
   ],
   "source": [
    "#read the data using Pandas library\n",
    "import mysql.connector as connection\n",
    "import pandas as pd\n",
    "try:\n",
    "    mydb = connection.connect(host='localhost',user='root',passwd='mysql',database='Student')\n",
    "    \n",
    "    query = 'SELECT x3,x2,x1 FROM StudentDetails;'\n",
    "    result = pd.read_sql(query,mydb)\n",
    "    print(result)\n",
    "    mydb.close()\n",
    "except Exception as e:\n",
    "    print(\"Error in try block\")\n",
    "    "
   ]
  },
  {
   "cell_type": "code",
   "execution_count": 40,
   "metadata": {},
   "outputs": [],
   "source": [
    "result.to_csv(\"mydata.csv\") #Save the data into the .csv file"
   ]
  },
  {
   "cell_type": "code",
   "execution_count": 41,
   "metadata": {},
   "outputs": [
    {
     "data": {
      "text/plain": [
       "<mysql.connector.connection.MySQLConnection at 0x23d492c72c8>"
      ]
     },
     "execution_count": 41,
     "metadata": {},
     "output_type": "execute_result"
    }
   ],
   "source": [
    "mydb = connection.connect(host='localhost',user='root',passwd='mysql',database='Student')\n",
    "mydb"
   ]
  },
  {
   "cell_type": "code",
   "execution_count": null,
   "metadata": {},
   "outputs": [],
   "source": []
  },
  {
   "cell_type": "code",
   "execution_count": null,
   "metadata": {},
   "outputs": [],
   "source": []
  },
  {
   "cell_type": "code",
   "execution_count": null,
   "metadata": {},
   "outputs": [],
   "source": []
  },
  {
   "cell_type": "code",
   "execution_count": null,
   "metadata": {},
   "outputs": [],
   "source": []
  },
  {
   "cell_type": "code",
   "execution_count": null,
   "metadata": {},
   "outputs": [],
   "source": []
  },
  {
   "cell_type": "code",
   "execution_count": null,
   "metadata": {},
   "outputs": [],
   "source": []
  },
  {
   "cell_type": "code",
   "execution_count": null,
   "metadata": {},
   "outputs": [],
   "source": []
  },
  {
   "cell_type": "code",
   "execution_count": null,
   "metadata": {},
   "outputs": [],
   "source": []
  },
  {
   "cell_type": "code",
   "execution_count": null,
   "metadata": {},
   "outputs": [],
   "source": []
  },
  {
   "cell_type": "raw",
   "metadata": {},
   "source": [
    "https://cassandra.apache.org/download/\n",
    "https://www.apache.org/dyn/closer.lua/cassandra/3.11.10/apache-cassandra-3.11.10-bin.tar.gz\n",
    "https://www.oracle.com/java/technologies/javase/javase8-archive-downloads.html\n",
    "https://www.apache.org/dyn/closer.lua/cassandra/3.11.10/apache-cassandra-3.11.10-bin.tar.gz\n",
    "https://thrift.apache.org/download\n",
    "pip install cassandra-driver\n",
    "conda create --name python2 python=2.7\n",
    "\n"
   ]
  }
 ],
 "metadata": {
  "kernelspec": {
   "display_name": "Python 3",
   "language": "python",
   "name": "python3"
  },
  "language_info": {
   "codemirror_mode": {
    "name": "ipython",
    "version": 3
   },
   "file_extension": ".py",
   "mimetype": "text/x-python",
   "name": "python",
   "nbconvert_exporter": "python",
   "pygments_lexer": "ipython3",
   "version": "3.7.4"
  }
 },
 "nbformat": 4,
 "nbformat_minor": 2
}
